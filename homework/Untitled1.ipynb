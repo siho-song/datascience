{
 "cells": [
  {
   "cell_type": "code",
   "execution_count": null,
   "id": "9f2f2e76-efd0-4a32-9295-32581cd3ec6c",
   "metadata": {},
   "outputs": [],
   "source": [
    "# 테이블에 나와있는 데이터로만 분석을 진행할 것 인가 ?\n",
    "\n",
    "# USER 의 관점\n",
    "# 특정 유저의 여행 만족도는 무엇과 연관이 있을까?\n",
    "# 1. trip type 과의 상관관계 알아보기\n",
    "# 2. UserTimeZone 과 HotelTimeZone의 연관관계\n",
    "# - 시차에 예민한 사람이라면 시차가 많이나는 호텔에 갔을경우 만족도가 떨어질 수 있다.\n",
    "\n",
    "#특정 유저가 동일한 호텔을 방문했을때 rating 의 차이는 뭐때문에 발생하는 것일까?\n",
    "\n",
    "#HOTEL의 관점\n",
    "# 동일한 TIMEZONE에 존재하는 호텔들 분류\n",
    "# 각 호텔의 방문객 수 관련\n",
    "# 각 호텔의 평점 관련\n",
    "# 각 지역(주) 기준 호텔 분류 및 비교 ( rating 비교등등)\n",
    "# 각 TIMEZONE 기준 호텔 분류 및 비교 ( rating 비교등등)\n",
    "\n",
    "#RATING의 관점\n",
    "# 전체 RATING 의 평균,표준편차 등등 \n",
    "# 각 STATE,TIMEZONE 별 평균,표준편차 등등 \n",
    "# \n",
    "\n",
    "#TIMEZONE의 관점\n",
    "#\n",
    "\n",
    "\n",
    "\n",
    "\n",
    "#TYPE의 관점 \n",
    "# 어떠한 유형의 여행이 가장 많았나 ?\n",
    "# \n",
    "\n"
   ]
  }
 ],
 "metadata": {
  "kernelspec": {
   "display_name": "Python 3 (ipykernel)",
   "language": "python",
   "name": "python3"
  },
  "language_info": {
   "codemirror_mode": {
    "name": "ipython",
    "version": 3
   },
   "file_extension": ".py",
   "mimetype": "text/x-python",
   "name": "python",
   "nbconvert_exporter": "python",
   "pygments_lexer": "ipython3",
   "version": "3.9.16"
  }
 },
 "nbformat": 4,
 "nbformat_minor": 5
}
