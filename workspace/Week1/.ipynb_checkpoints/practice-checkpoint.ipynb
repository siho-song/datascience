{
 "cells": [
  {
   "cell_type": "code",
   "execution_count": 2,
   "id": "b7ffdc5e-92a3-4d09-9ca0-9aac9ac44c36",
   "metadata": {},
   "outputs": [],
   "source": [
    "import pandas as pd"
   ]
  },
  {
   "cell_type": "code",
   "execution_count": 4,
   "id": "57d5255b-6925-4f87-9f91-e79d43454889",
   "metadata": {},
   "outputs": [],
   "source": [
    "dict_data = {'a':1, 'b':2,'c':3}"
   ]
  },
  {
   "cell_type": "code",
   "execution_count": 8,
   "id": "7a988318-e8c3-4497-875e-289eb1ac57eb",
   "metadata": {},
   "outputs": [
    {
     "name": "stdout",
     "output_type": "stream",
     "text": [
      "<class 'pandas.core.series.Series'>\n"
     ]
    }
   ],
   "source": [
    "# dictionary -> Series \n",
    "sr= pd.Series(dict_data)\n",
    "print(type(sr))\n",
    "print(\"\\n\")\n",
    "print(sr)"
   ]
  },
  {
   "cell_type": "code",
   "execution_count": 7,
   "id": "2b5fecb5-4d4b-46f6-a1e5-3502416d7aff",
   "metadata": {},
   "outputs": [
    {
     "name": "stdout",
     "output_type": "stream",
     "text": [
      "<class 'pandas.core.series.Series'>\n"
     ]
    }
   ],
   "source": []
  },
  {
   "cell_type": "code",
   "execution_count": null,
   "id": "4f8f03a2-5ec5-43fa-b363-6a59bb34082a",
   "metadata": {},
   "outputs": [],
   "source": []
  }
 ],
 "metadata": {
  "kernelspec": {
   "display_name": "Python 3 (ipykernel)",
   "language": "python",
   "name": "python3"
  },
  "language_info": {
   "codemirror_mode": {
    "name": "ipython",
    "version": 3
   },
   "file_extension": ".py",
   "mimetype": "text/x-python",
   "name": "python",
   "nbconvert_exporter": "python",
   "pygments_lexer": "ipython3",
   "version": "3.9.16"
  }
 },
 "nbformat": 4,
 "nbformat_minor": 5
}
